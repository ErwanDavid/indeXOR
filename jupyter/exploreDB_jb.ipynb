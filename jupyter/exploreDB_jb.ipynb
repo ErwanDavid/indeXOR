{
 "cells": [
  {
   "cell_type": "code",
   "execution_count": 18,
   "id": "ea6064f2",
   "metadata": {},
   "outputs": [],
   "source": [
    "import sqlite3\n",
    "\n",
    "conn = sqlite3.connect('../MyDataBase.db')\n",
    "curs = conn.cursor()\n",
    "conn.row_factory = lambda cursor, row: row[0]\n",
    "#conn = sqlite3.connect('file:../MyDataBase.db?mode=ro', uri=True)\n",
    "rowCur = conn.cursor()"
   ]
  },
  {
   "cell_type": "code",
   "execution_count": 19,
   "id": "8c08a8da",
   "metadata": {},
   "outputs": [
    {
     "name": "stdout",
     "output_type": "stream",
     "text": [
      "Database List : ['FILE']\n"
     ]
    }
   ],
   "source": [
    "tableList = rowCur.execute(\"SELECT name FROM sqlite_master WHERE type = 'table'\").fetchall()\n",
    "print(\"Database List :\", tableList)"
   ]
  },
  {
   "cell_type": "code",
   "execution_count": 23,
   "id": "a3e05033",
   "metadata": {},
   "outputs": [
    {
     "name": "stdout",
     "output_type": "stream",
     "text": [
      "  using FILE\n",
      "    name sha256 type VARCHAR(255)\n",
      "    name path type VARCHAR(255)\n",
      "    name file type VARCHAR(255)\n",
      "    name extention type CHAR(25)\n",
      "    name size type INT\n",
      "    name mtime type REAL\n",
      "    name month type CHAR(25)\n",
      "    name year type INT\n",
      "    name all_author type CHAR(250)\n",
      "    name img_camera type CHAR(250)\n",
      "    name img_focallengh type CHAR(250)\n",
      "    name mp3_title type CHAR(250)\n",
      "    name mp3_album type CHAR(250)\n",
      "    name meta type VARCHAR(50000)\n"
     ]
    }
   ],
   "source": [
    "for table in tableList:\n",
    "    tablename = table\n",
    "    #tablename = 'FILE'\n",
    "    print(\"  using\",tablename)\n",
    "    result=curs.execute(\"PRAGMA table_info(%s) \" % tablename ).fetchall()\n",
    "    for column in result:\n",
    "        print(\"    name\",column[1], \"type\",column[2] )"
   ]
  },
  {
   "cell_type": "code",
   "execution_count": null,
   "id": "58689316",
   "metadata": {},
   "outputs": [],
   "source": []
  }
 ],
 "metadata": {
  "kernelspec": {
   "display_name": "Python 3 (ipykernel)",
   "language": "python",
   "name": "python3"
  },
  "language_info": {
   "codemirror_mode": {
    "name": "ipython",
    "version": 3
   },
   "file_extension": ".py",
   "mimetype": "text/x-python",
   "name": "python",
   "nbconvert_exporter": "python",
   "pygments_lexer": "ipython3",
   "version": "3.10.4"
  }
 },
 "nbformat": 4,
 "nbformat_minor": 5
}
